{
  "nbformat": 4,
  "nbformat_minor": 0,
  "metadata": {
    "colab": {
      "provenance": []
    },
    "kernelspec": {
      "name": "python3",
      "display_name": "Python 3"
    },
    "language_info": {
      "name": "python"
    }
  },
  "cells": [
    {
      "cell_type": "code",
      "execution_count": 1,
      "metadata": {
        "colab": {
          "base_uri": "https://localhost:8080/"
        },
        "id": "McMcu4bNkW8a",
        "outputId": "3c267e4d-cb95-4a66-8bf1-33dd3f510a29"
      },
      "outputs": [
        {
          "output_type": "stream",
          "name": "stdout",
          "text": [
            "Enter your first name: Kireeti\n",
            "Enter your last name: Nunna\n",
            "Full Name: Kireeti Nunna\n",
            "Alternate Chars: KreiNna\n"
          ]
        }
      ],
      "source": [
        "def string_alternative(input_string):\n",
        "    return input_string[::2]\n",
        "\n",
        "def main():\n",
        "    first_name = input(\"Enter your first name: \")\n",
        "    last_name = input(\"Enter your last name: \")\n",
        "\n",
        "    full_name = first_name + \" \" + last_name\n",
        "\n",
        "    alternative_chars = string_alternative(full_name)\n",
        "\n",
        "    print(\"Full Name:\", full_name)\n",
        "    print(\"Alternate Chars:\", alternative_chars)\n",
        "\n",
        "if __name__ == \"__main__\":\n",
        "    main()\n"
      ]
    },
    {
      "cell_type": "code",
      "source": [
        "from collections import Counter\n",
        "\n",
        "input_file_path = '/content/input.txt'\n",
        "output_file_path = '/content/output.txt'\n",
        "\n",
        "# Read input file\n",
        "with open(\"input.txt\", 'r') as f:\n",
        "    lines = f.read()\n",
        "\n",
        "# Process word count\n",
        "list_words = (' '.join(lines.splitlines())).split()\n",
        "word_count = str(dict(Counter(list_words)))\n",
        "\n",
        "# Write output to file\n",
        "with open(\"output.txt\", 'w') as s:\n",
        "    s.write(word_count)\n",
        "\n",
        "# Display the output\n",
        "print(\"Input:\")\n",
        "print(lines)\n",
        "print(\"\\nWord Count:\")\n",
        "print(word_count)\n"
      ],
      "metadata": {
        "colab": {
          "base_uri": "https://localhost:8080/"
        },
        "id": "jpedWAelwzZP",
        "outputId": "263f3422-dea4-44e9-9586-93eeac86fa34"
      },
      "execution_count": 33,
      "outputs": [
        {
          "output_type": "stream",
          "name": "stdout",
          "text": [
            "Input:\n",
            "Python Course\n",
            "Deep Learning Course\n",
            "\n",
            "Word Count:\n",
            "{'Python': 1, 'Course': 2, 'Deep': 1, 'Learning': 1}\n"
          ]
        }
      ]
    },
    {
      "cell_type": "code",
      "source": [
        "# Using Nested Interactive Loop\n",
        "def convert_heights_nested(heights_inches):\n",
        "    heights_cm = []\n",
        "\n",
        "    for height_inches in heights_inches:\n",
        "        height_cm = height_inches * 2.54\n",
        "        heights_cm.append(round(height_cm, 2))  # Rounding to 2 decimal places\n",
        "\n",
        "    return heights_cm\n",
        "\n",
        "# Using List Comprehensions\n",
        "def convert_heights_list_comprehension(heights_inches):\n",
        "    heights_cm = [round(height * 2.54, 2) for height in heights_inches]\n",
        "\n",
        "    return heights_cm\n",
        "\n",
        "def main():\n",
        "    heights_inches = [float(height) for height in input(\"Enter heights (in inches) of customers separated by spaces: \").split()]\n",
        "\n",
        "    # Using Nested Interactive Loop\n",
        "    heights_nested = convert_heights_nested(heights_inches)\n",
        "    print(\"Using Nested Interactive Loop:\")\n",
        "    print(\"Heights in Centimeters:\", heights_nested)\n",
        "\n",
        "    # Using List Comprehensions\n",
        "    heights_list_comp = convert_heights_list_comprehension(heights_inches)\n",
        "    print(\"\\nUsing List Comprehensions:\")\n",
        "    print(\"Heights in Centimeters:\", heights_list_comp)\n",
        "\n",
        "if __name__ == \"__main__\":\n",
        "    main()\n"
      ],
      "metadata": {
        "colab": {
          "base_uri": "https://localhost:8080/"
        },
        "id": "c9AiI02Ln5Ar",
        "outputId": "025efcfa-a8d7-4c0c-d1db-1eaf09087f5e"
      },
      "execution_count": 11,
      "outputs": [
        {
          "output_type": "stream",
          "name": "stdout",
          "text": [
            "Enter heights (in inches) of customers separated by spaces: 150 155 145 148\n",
            "Using Nested Interactive Loop:\n",
            "Heights in Centimeters: [381.0, 393.7, 368.3, 375.92]\n",
            "\n",
            "Using List Comprehensions:\n",
            "Heights in Centimeters: [381.0, 393.7, 368.3, 375.92]\n"
          ]
        }
      ]
    }
  ]
}